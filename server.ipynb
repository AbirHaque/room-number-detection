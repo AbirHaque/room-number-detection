{
 "cells": [
  {
   "cell_type": "code",
   "execution_count": null,
   "id": "instant-moses",
   "metadata": {},
   "outputs": [],
   "source": [
    "from flask import Flask\n",
    "from flask import request\n",
    "\n",
    "app = Flask(__name__)\n",
    "\n",
    "from jetbot import Robot\n",
    "from SCSCtrl import TTLServo\n",
    "import time\n",
    "import ipywidgets.widgets as widgets\n",
    "from IPython.display import display\n",
    "\n",
    "robot = Robot()\n",
    "\n",
    "@app.route('/stop')\n",
    "def stop():\n",
    "    robot.stop()\n",
    "    return(\"\")\n",
    "\n",
    "@app.route('/front')\n",
    "def step_forward():\n",
    "    robot.forward(0.4)\n",
    "    \n",
    "@app.route('/back')\n",
    "def step_backward():\n",
    "    robot.backward(0.4)\n",
    "    \n",
    "@app.route('/left')\n",
    "def step_left():\n",
    "    robot.left(0.3)\n",
    "\n",
    "@app.route('/right')\n",
    "def step_right():\n",
    "    robot.right(0.3)\n",
    "\n",
    "\n",
    "#Going to need 1: Right/Left 2: Up and down(Lower Arm) 3: Elbow 4: Claw 5: Camera \n",
    "\n",
    "@app.route('/arm', methods=['GET'])\n",
    "def arm_movement():\n",
    "    xpos = request.args.get('xpos')\n",
    "    TTLServo.servoAngleCtrl(1, xpos, 1, 150)\n",
    "    ypos = request.args.get('ypos')\n",
    "    TTLServo.servoAngleCtrl(1, ypos, 1, 150)\n",
    "    \n",
    "if __name__ == '__main__':\n",
    "    app.run()\n",
    "\n"
   ]
  },
  {
   "cell_type": "code",
   "execution_count": null,
   "id": "multiple-amber",
   "metadata": {},
   "outputs": [],
   "source": [
    "@app.route('/login', methods=['GET'])\n",
    "    def login():\n",
    "        username = request.args.get('username')\n",
    "        print(username)\n",
    "        password= request.args.get('password')\n",
    "        print(password)"
   ]
  }
 ],
 "metadata": {
  "kernelspec": {
   "display_name": "Python 3.10.0 64-bit",
   "language": "python",
   "name": "python3"
  },
  "language_info": {
   "codemirror_mode": {
    "name": "ipython",
    "version": 3
   },
   "file_extension": ".py",
   "mimetype": "text/x-python",
   "name": "python",
   "nbconvert_exporter": "python",
   "pygments_lexer": "ipython3",
   "version": "3.10.0"
  },
  "vscode": {
   "interpreter": {
    "hash": "369f2c481f4da34e4445cda3fffd2e751bd1c4d706f27375911949ba6bb62e1c"
   }
  }
 },
 "nbformat": 4,
 "nbformat_minor": 5
}
