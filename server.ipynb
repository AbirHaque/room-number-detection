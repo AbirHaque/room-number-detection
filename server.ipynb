{
 "cells": [
  {
   "cell_type": "code",
   "execution_count": null,
   "id": "instant-moses",
   "metadata": {},
   "outputs": [],
   "source": [
    "from flask import Flask\n",
    "app = Flask(__name__)\n",
    "\n",
    "from jetbot import Robot\n",
    "import time\n",
    "import ipywidgets.widgets as widgets\n",
    "from IPython.display import display\n",
    "\n",
    "robot = Robot()\n",
    "\n",
    "@app.route('/stop')\n",
    "def stop():\n",
    "    robot.stop()\n",
    "    return(\"\")\n",
    "\n",
    "@app.route('/front')\n",
    "def step_forward():\n",
    "    robot.forward(0.4)\n",
    "    time.sleep(0.5)\n",
    "    robot.stop()\n",
    "    \n",
    "@app.route('/back')\n",
    "def step_backward():\n",
    "    robot.backward(0.4)\n",
    "    time.sleep(0.5)\n",
    "    robot.stop()\n",
    "\n",
    "@app.route('/left')\n",
    "def step_left():\n",
    "    robot.left(0.3)\n",
    "    time.sleep(0.5)\n",
    "    robot.stop()\n",
    "\n",
    "@app.route('/right')\n",
    "def step_right():\n",
    "    robot.right(0.3)\n",
    "    time.sleep(0.5)\n",
    "    robot.stop()\n",
    "    \n",
    "if __name__ == '__main__':\n",
    "    app.run()\n",
    "\n"
   ]
  },
  {
   "cell_type": "code",
   "execution_count": null,
   "id": "multiple-amber",
   "metadata": {},
   "outputs": [],
   "source": []
  }
 ],
 "metadata": {
  "kernelspec": {
   "display_name": "Python 3",
   "language": "python",
   "name": "python3"
  },
  "language_info": {
   "codemirror_mode": {
    "name": "ipython",
    "version": 3
   },
   "file_extension": ".py",
   "mimetype": "text/x-python",
   "name": "python",
   "nbconvert_exporter": "python",
   "pygments_lexer": "ipython3",
   "version": "3.6.9"
  }
 },
 "nbformat": 4,
 "nbformat_minor": 5
}