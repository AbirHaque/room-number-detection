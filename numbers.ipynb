{
 "cells": [
  {
   "cell_type": "markdown",
   "metadata": {},
   "source": [
    "Common methodology for recognizing digits in images without R-CNN:\n",
    "1. Localize object\n",
    "2. Extract the object\n",
    "4. OCR on object\n",
    "\n",
    "OpenCV image processing reference: https://docs.opencv.org/3.4/d2/d96/tutorial_py_table_of_contents_imgproc.html"
   ]
  },
  {
   "cell_type": "code",
   "execution_count": 24,
   "metadata": {},
   "outputs": [
    {
     "name": "stdout",
     "output_type": "stream",
     "text": [
      "0.jpg contents: 212 \n",
      "1.jpg contents: \n",
      "2.jpg contents: \n",
      "3.jpg contents: \n"
     ]
    },
    {
     "data": {
      "image/png": "[encoded data removed]",
      "text/plain": [
       "<Figure size 432x288 with 1 Axes>"
      ]
     },
     "metadata": {
      "needs_background": "light"
     },
     "output_type": "display_data"
    }
   ],
   "source": [
    "import image_processing_util as ipu\n",
    "\n",
    "from imutils.perspective import four_point_transform\n",
    "import cv2 as cv\n",
    "import imutils\n",
    "import matplotlib.pyplot as plt\n",
    "import os\n",
    "import pytesseract\n",
    " \n",
    "pytesseract.pytesseract.tesseract_cmd = 'C:/Program Files/Tesseract-OCR/tesseract.exe'\n",
    "\n",
    "image = cv.imread(\"hall1.jpg\")\n",
    "image = imutils.resize(image, height=1000)\n",
    "\n",
    "#Step 1: Localize object\n",
    "edges = ipu.get_edges(image)\n",
    "candidate_list = ipu.get_quadrilaterals(edges)\n",
    "\n",
    "#Step 2: Extract object\n",
    "candidates  = len(candidate_list)\n",
    "if candidates>10:#So the out folder doesn't blow up\n",
    "    candidates = 10\n",
    "for i in range(candidates):\n",
    "    warped = four_point_transform(image, candidate_list[i].reshape(4, 2))\n",
    "    plt.imshow(warped)\n",
    "    abs_path = os.path.abspath(\"out\")\n",
    "    plt.savefig(os.path.join(abs_path, str(i)+'.jpg'))\n",
    "    #Step 3: OCR\n",
    "    text = pytesseract.image_to_string(warped)\n",
    "    print(str(i) + \".jpg contents: \" + text.replace(\"\\n\",\" \"))"
   ]
  }
 ],
 "metadata": {
  "interpreter": {
   "hash": "2be5faf79681da6f2a61fdfdd5405d65d042280f7fba6178067603e3a2925119"
  },
  "kernelspec": {
   "display_name": "Python 3.10.1 64-bit",
   "language": "python",
   "name": "python3"
  },
  "language_info": {
   "codemirror_mode": {
    "name": "ipython",
    "version": 3
   },
   "file_extension": ".py",
   "mimetype": "text/x-python",
   "name": "python",
   "nbconvert_exporter": "python",
   "pygments_lexer": "ipython3",
   "version": "3.10.1"
  },
  "orig_nbformat": 4
 },
 "nbformat": 4,
 "nbformat_minor": 2
}
